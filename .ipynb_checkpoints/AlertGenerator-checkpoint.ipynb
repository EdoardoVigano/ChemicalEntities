{
 "cells": [
  {
   "cell_type": "markdown",
   "id": "585deeed",
   "metadata": {},
   "source": [
    "# Alerts Generator"
   ]
  },
  {
   "cell_type": "markdown",
   "id": "d876b7f3",
   "metadata": {},
   "source": [
    "This notebook was made to facilitate the implementation of chemical alerts in python code as functions to calculate alerts-fingerprint"
   ]
  },
  {
   "cell_type": "code",
   "execution_count": 21,
   "id": "7472356d",
   "metadata": {},
   "outputs": [],
   "source": [
    "import pandas as pd\n",
    "import numpy as np"
   ]
  },
  {
   "cell_type": "markdown",
   "id": "cbef9232",
   "metadata": {},
   "source": [
    "## 1. Define output name"
   ]
  },
  {
   "cell_type": "code",
   "execution_count": 22,
   "id": "fc24748c",
   "metadata": {},
   "outputs": [],
   "source": [
    "out_name = 'SYGMA_REACTION_RULES'"
   ]
  },
  {
   "cell_type": "markdown",
   "id": "bdd39cee",
   "metadata": {},
   "source": [
    "## 2. Import ruleset file:\n",
    "\n",
    "This file must be an excel files with 3 different columns with the header: \n",
    "\n",
    "- **name**: That column contain the name of alerts\n",
    "- **smarts**: That column contain every smarts you want to implement\n",
    "- **description**: That column contain a brief description of alerts"
   ]
  },
  {
   "cell_type": "code",
   "execution_count": 23,
   "id": "c3ffedee",
   "metadata": {},
   "outputs": [],
   "source": [
    "ruleset_file_name = \"SyGMA_rules.xlsx\""
   ]
  },
  {
   "cell_type": "code",
   "execution_count": 24,
   "id": "565b99eb",
   "metadata": {},
   "outputs": [],
   "source": [
    "data = pd.read_excel(ruleset_file_name)"
   ]
  },
  {
   "cell_type": "code",
   "execution_count": 25,
   "id": "c5fa1d8a",
   "metadata": {},
   "outputs": [
    {
     "data": {
      "text/html": [
       "<div>\n",
       "<style scoped>\n",
       "    .dataframe tbody tr th:only-of-type {\n",
       "        vertical-align: middle;\n",
       "    }\n",
       "\n",
       "    .dataframe tbody tr th {\n",
       "        vertical-align: top;\n",
       "    }\n",
       "\n",
       "    .dataframe thead th {\n",
       "        text-align: right;\n",
       "    }\n",
       "</style>\n",
       "<table border=\"1\" class=\"dataframe\">\n",
       "  <thead>\n",
       "    <tr style=\"text-align: right;\">\n",
       "      <th></th>\n",
       "      <th>name</th>\n",
       "      <th>description</th>\n",
       "      <th>smarts</th>\n",
       "    </tr>\n",
       "  </thead>\n",
       "  <tbody>\n",
       "    <tr>\n",
       "      <th>0</th>\n",
       "      <td>REACTION_N_dealkylation_1</td>\n",
       "      <td>'N-demethylation_(R-NHCH3)'</td>\n",
       "      <td>[*;!c:1][NH1;X3:2][CH3]</td>\n",
       "    </tr>\n",
       "    <tr>\n",
       "      <th>1</th>\n",
       "      <td>REACTION_N_dealkylation_2</td>\n",
       "      <td>'N-demethylation_(c-NHCH3)'</td>\n",
       "      <td>[c:1][NH1;X3:2][CH3]</td>\n",
       "    </tr>\n",
       "    <tr>\n",
       "      <th>2</th>\n",
       "      <td>REACTION_N_dealkylation_3</td>\n",
       "      <td>'N-demethylation_(R-N(CH3)2)'</td>\n",
       "      <td>[*;!c:1][NH0;X3:2]([CH3])[CH3:3]</td>\n",
       "    </tr>\n",
       "    <tr>\n",
       "      <th>3</th>\n",
       "      <td>REACTION_N_dealkylation_4</td>\n",
       "      <td>'N-demethylation_(c-N(CH3)2)'</td>\n",
       "      <td>[c:1][NH0;X3:2]([CH3])[CH3:3]</td>\n",
       "    </tr>\n",
       "    <tr>\n",
       "      <th>4</th>\n",
       "      <td>REACTION_N_dealkylation_5</td>\n",
       "      <td>'N-demethylation_(R-N(CR)CH3)'</td>\n",
       "      <td>[*;!$([CH3]):1][NH0;X3:2]([CH3])[#6;!$([CH3]):3]</td>\n",
       "    </tr>\n",
       "    <tr>\n",
       "      <th>...</th>\n",
       "      <td>...</td>\n",
       "      <td>...</td>\n",
       "      <td>...</td>\n",
       "    </tr>\n",
       "    <tr>\n",
       "      <th>165</th>\n",
       "      <td>REACTION_special_rules_13</td>\n",
       "      <td>'oxidation_(C=N)'</td>\n",
       "      <td>[NX2:1]=[CH1:2]</td>\n",
       "    </tr>\n",
       "    <tr>\n",
       "      <th>166</th>\n",
       "      <td>REACTION_special_rules_14</td>\n",
       "      <td>'deiodonidation'</td>\n",
       "      <td>[#6X3:1][I]</td>\n",
       "    </tr>\n",
       "    <tr>\n",
       "      <th>167</th>\n",
       "      <td>REACTION_special_rules_15</td>\n",
       "      <td>'nitrile_to_amide'</td>\n",
       "      <td>[C:1]#N</td>\n",
       "    </tr>\n",
       "    <tr>\n",
       "      <th>168</th>\n",
       "      <td>REACTION_steroids_1</td>\n",
       "      <td>'steroid_d5d4'</td>\n",
       "      <td>[C;$(C~1~C~C~C~C~2~C~C~C~3~C~4~C~C~C~C~4~C~C~C...</td>\n",
       "    </tr>\n",
       "    <tr>\n",
       "      <th>169</th>\n",
       "      <td>REACTION_steroids_2</td>\n",
       "      <td>'steroid_17hydroxy_to_keto'</td>\n",
       "      <td>[C;$(C~1~C~2~C~C~C~3~C~4~C~C~C~C~C~4~C~C~C~3~C...</td>\n",
       "    </tr>\n",
       "  </tbody>\n",
       "</table>\n",
       "<p>170 rows × 3 columns</p>\n",
       "</div>"
      ],
      "text/plain": [
       "                          name                     description  \\\n",
       "0    REACTION_N_dealkylation_1     'N-demethylation_(R-NHCH3)'   \n",
       "1    REACTION_N_dealkylation_2     'N-demethylation_(c-NHCH3)'   \n",
       "2    REACTION_N_dealkylation_3   'N-demethylation_(R-N(CH3)2)'   \n",
       "3    REACTION_N_dealkylation_4   'N-demethylation_(c-N(CH3)2)'   \n",
       "4    REACTION_N_dealkylation_5  'N-demethylation_(R-N(CR)CH3)'   \n",
       "..                         ...                             ...   \n",
       "165  REACTION_special_rules_13               'oxidation_(C=N)'   \n",
       "166  REACTION_special_rules_14                'deiodonidation'   \n",
       "167  REACTION_special_rules_15              'nitrile_to_amide'   \n",
       "168        REACTION_steroids_1                  'steroid_d5d4'   \n",
       "169        REACTION_steroids_2     'steroid_17hydroxy_to_keto'   \n",
       "\n",
       "                                                smarts  \n",
       "0                              [*;!c:1][NH1;X3:2][CH3]  \n",
       "1                                 [c:1][NH1;X3:2][CH3]  \n",
       "2                     [*;!c:1][NH0;X3:2]([CH3])[CH3:3]  \n",
       "3                        [c:1][NH0;X3:2]([CH3])[CH3:3]  \n",
       "4     [*;!$([CH3]):1][NH0;X3:2]([CH3])[#6;!$([CH3]):3]  \n",
       "..                                                 ...  \n",
       "165                                    [NX2:1]=[CH1:2]  \n",
       "166                                        [#6X3:1][I]  \n",
       "167                                            [C:1]#N  \n",
       "168  [C;$(C~1~C~C~C~C~2~C~C~C~3~C~4~C~C~C~C~4~C~C~C...  \n",
       "169  [C;$(C~1~C~2~C~C~C~3~C~4~C~C~C~C~C~4~C~C~C~3~C...  \n",
       "\n",
       "[170 rows x 3 columns]"
      ]
     },
     "execution_count": 25,
     "metadata": {},
     "output_type": "execute_result"
    }
   ],
   "source": [
    "data"
   ]
  },
  {
   "cell_type": "markdown",
   "id": "43af3705",
   "metadata": {},
   "source": [
    "### Esecution code:"
   ]
  },
  {
   "cell_type": "code",
   "execution_count": 31,
   "id": "bac864a3",
   "metadata": {},
   "outputs": [],
   "source": [
    "def build_alert(data):\n",
    "    alert_list = []\n",
    "    for row in range(len(data)):\n",
    "        t = f\"def {data.loc[row,['name']][0]}(molecule: Chem.rdchem.Mol):\\n\\t#{data.loc[row,['description']][0]}\\n\\tsubstructure = '{data.loc[row,['smarts']][0]}'\\n\\tsubstructure = Chem.MolFromSmarts(substructure)\\n\\tindices = list(molecule.GetSubstructMatches(substructure))\\n\\tif indices==[]: out=0\\n\\telse: out=1\\n\\treturn out\\n\\n\"\n",
    "       \n",
    "        if row == 0: txt = f\"import pandas as pd\\nfrom rdkit import Chem\\nimport numpy as np\\n\\n\"+t\n",
    "        else: txt = txt+t\n",
    "            \n",
    "    return txt"
   ]
  },
  {
   "cell_type": "code",
   "execution_count": 32,
   "id": "abbae67c",
   "metadata": {},
   "outputs": [],
   "source": [
    "def descriptor(data):\n",
    "    for row in range(len(data)):\n",
    "        if row == 0: \n",
    "            txt = f\"def descriptor(mol: Chem.rdchem.Mol):\\n\\n\\tSA_{data.loc[row,['name']][0]} = []\\n\\t\"\n",
    "            txt2 = f\"lst_chemical = [SA_{data.loc[row,['name']][0]},\\n\\t\\t\"\n",
    "            txt3 = f\"if mol != 'none':\\n\\t\\tSA_{data.loc[row,['name']][0]}.append({data.loc[row,['name']][0]}(mol)[:])\\n\\t\\t\"\n",
    "            txt5 = f\"out = pd.DataFrame(zip(SA_{data.loc[row,['name']][0]}[0],\"\n",
    "            txt6 = f\"columns = ['{data.loc[row,['name']][0]}',\"\n",
    "        elif row < len(data)-1:\n",
    "            txt = txt + f\"SA_{data.loc[row,['name']][0]} = []\\n\\t\"\n",
    "            txt2 = txt2 + f\"SA_{data.loc[row,['name']][0]},\\n\\t\\t\"\n",
    "            txt3 = txt3 + f\"SA_{data.loc[row,['name']][0]}.append({data.loc[row,['name']][0]}(mol)[:])\\n\\t\\t\"\n",
    "            txt5 = txt5 + f\"SA_{data.loc[row,['name']][0]}[0],\"\n",
    "            txt6 = txt6 + f\"'{data.loc[row,['name']][0]}',\"\n",
    "        else: \n",
    "            txt = txt + f\"SA_{data.loc[row,['name']][0]} = []\\n\\t\"\n",
    "            txt2 = txt2 + f\"SA_{data.loc[row,['name']][0]}]\\n\\t\"\n",
    "            txt3 = txt3 + f\"SA_{data.loc[row,['name']][0]}.append({data.loc[row,['name']][0]}(mol)[:])\\n\\t\"\n",
    "            txt5 = txt5 + f\"SA_{data.loc[row,['name']][0]}[0]),\"\n",
    "            # txt6 = txt6 + f\"'{data.loc[row,['name']][0]}'])\\n\\tdropCol = [i for i in out.keys() if out[i][2]==0]\\n\\tb = out.drop(dropCol, axis=1)\\n\\tif len(b.keys())>1:\\n\\t\\ta = b.loc[:,b.iloc[3,:].apply(lambda x: x == max(b.iloc[3,:]))]\\n\\t\\tc = a.loc[:, a.iloc[4,:].apply(lambda x: x=='ACTIVE')]\\n\\t\\tc = c.loc[:,c.iloc[5,:].apply(lambda x: x == max(c.iloc[5,:]))]\\n\\t\\tif len(c.keys())>1: c = c.loc[:,c.iloc[6,:].apply(lambda x: x == max(c.iloc[6,:]))]\\n\\telse: c = b.copy()\\n\\treturn c\"\n",
    "    txt4 = f\"else:\\n\\t\\tfor chem_group in lst_chemical:\\n\\t\\t\\tchem_group.append('none')\"\n",
    "    txt = txt + \"\\n\\t\" + txt2 + \"\\n\\t\" + txt3 +\"\\n\\t\"+ txt4 + \"\\n\\t\" + txt5 +\"\\n\"\n",
    "    return txt\n",
    "\n",
    "\n",
    "a = build_alert(data)\n",
    "d = descriptor(data)\n",
    "txt = a + \"\\n\\n\" + \"\\n\\n\" + d\n",
    "with open(f\"{out_name}.txt\", \"w\") as f:f.write(txt)"
   ]
  },
  {
   "cell_type": "code",
   "execution_count": null,
   "id": "5c8a1fb5",
   "metadata": {},
   "outputs": [],
   "source": []
  }
 ],
 "metadata": {
  "kernelspec": {
   "display_name": "Python 3 (ipykernel)",
   "language": "python",
   "name": "python3"
  },
  "language_info": {
   "codemirror_mode": {
    "name": "ipython",
    "version": 3
   },
   "file_extension": ".py",
   "mimetype": "text/x-python",
   "name": "python",
   "nbconvert_exporter": "python",
   "pygments_lexer": "ipython3",
   "version": "3.10.8"
  }
 },
 "nbformat": 4,
 "nbformat_minor": 5
}
