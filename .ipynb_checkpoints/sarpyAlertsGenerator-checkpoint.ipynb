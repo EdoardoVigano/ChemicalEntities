{
 "cells": [
  {
   "cell_type": "markdown",
   "id": "90b0777d",
   "metadata": {},
   "source": [
    "# Sarpy Alert Builder For ToxEraser"
   ]
  },
  {
   "cell_type": "code",
   "execution_count": 1,
   "id": "db1fa5f8",
   "metadata": {},
   "outputs": [],
   "source": [
    "import pandas as pd\n",
    "import numpy as np"
   ]
  },
  {
   "cell_type": "markdown",
   "id": "d6d08958",
   "metadata": {},
   "source": [
    "### Define output name"
   ]
  },
  {
   "cell_type": "code",
   "execution_count": 2,
   "id": "c91beb46",
   "metadata": {},
   "outputs": [],
   "source": [
    "out_name = 'SYGMA_REACTION_RULES'"
   ]
  },
  {
   "cell_type": "markdown",
   "id": "e2983a18",
   "metadata": {},
   "source": [
    "## Define ruleset name:\n",
    "\n",
    "__must be a xlsx file with 4 columns: Name Alert, Activity, SMARTS, LR__"
   ]
  },
  {
   "cell_type": "code",
   "execution_count": 3,
   "id": "ed41ae4d",
   "metadata": {},
   "outputs": [],
   "source": [
    "data = pd.read_excel(\"Ruleset_65(1).xlsx\", header=None)\n",
    "data.rename(columns={0:'Name',1:'ATTIVITÀ',2:'SMARTS',3:'LR'}, inplace=True)\n",
    "data['LR'].replace([np.inf, -np.inf], 100,inplace=True)"
   ]
  },
  {
   "cell_type": "code",
   "execution_count": 4,
   "id": "0a1ae0fa",
   "metadata": {},
   "outputs": [],
   "source": [
    "def build_alert_Spy(data):\n",
    "    alert_list = []\n",
    "    for row in range(len(data)):\n",
    "        t = f\"def {data.loc[row,['Name']][0]}(molecule: Chem.rdchem.Mol):\\n\\t#{data.loc[row,['ATTIVITÀ']][0]}\\n\\tsubstructure = '{data.loc[row,['SMARTS']][0]}'\\n\\tsubstructure = Chem.MolFromSmarts(substructure)\\n\\thit_atss = list(molecule.GetSubstructMatches(substructure))\\n\\thit_bondss = []\\n\\tfor hit_ats in hit_atss:\\n\\t\\thit_bonds = []\\n\\t\\tfor bond in substructure.GetBonds():\\n\\t\\t\\taid1 = hit_ats[bond.GetBeginAtomIdx()]\\n\\t\\t\\taid2 = hit_ats[bond.GetEndAtomIdx()]\\n\\t\\t\\thit_bonds.append(molecule.GetBondBetweenAtoms(aid1,aid2).GetIdx())\\n\\t\\t\\thit_bondss.append(hit_bonds)\\n\\tlist_hit_atss = np.array(hit_atss).reshape(1,-1).tolist()[0]\\n\\thighlightBonds = np.array(hit_bondss).reshape(1,-1).tolist()[0]\\n\\ta = '{data.loc[row,['SMARTS']][0]}'\\n\\ta = a.replace('(', '')\\n\\ta = a.replace(')', '')\\n\\treturn (highlightBonds, list_hit_atss, len(hit_atss), {data.loc[row,['LR']][0]}, '{data.loc[row,['ATTIVITÀ']][0]}', len(a), len(set(a)), '{data.loc[row,['Name']][0]}')\\n\\n\"\n",
    "       \n",
    "        if row == 0: txt = f\"import pandas as pd\\nfrom rdkit import Chem\\nimport numpy as np\\n\\n\"+t\n",
    "        else: txt = txt+t\n",
    "            \n",
    "    return txt\n",
    "\n",
    "def descriptor(data):\n",
    "    for row in range(len(data)):\n",
    "        if row == 0: \n",
    "            txt = f\"def descriptor(mol: Chem.rdchem.Mol):\\n\\n\\tSA_{data.loc[row,['Name']][0]} = []\\n\\t\"\n",
    "            txt2 = f\"lst_chemical = [SA_{data.loc[row,['Name']][0]},\\n\\t\\t\"\n",
    "            txt3 = f\"if mol != 'none':\\n\\t\\tSA_{data.loc[row,['Name']][0]}.append({data.loc[row,['Name']][0]}(mol)[:])\\n\\t\\t\"\n",
    "            txt5 = f\"out = pd.DataFrame(zip(SA_{data.loc[row,['Name']][0]}[0],\"\n",
    "            txt6 = f\"columns = ['{data.loc[row,['Name']][0]}',\"\n",
    "        elif row < len(data)-1:\n",
    "            txt = txt + f\"SA_{data.loc[row,['Name']][0]} = []\\n\\t\"\n",
    "            txt2 = txt2 + f\"SA_{data.loc[row,['Name']][0]},\\n\\t\\t\"\n",
    "            txt3 = txt3 + f\"SA_{data.loc[row,['Name']][0]}.append({data.loc[row,['Name']][0]}(mol)[:])\\n\\t\\t\"\n",
    "            txt5 = txt5 + f\"SA_{data.loc[row,['Name']][0]}[0],\"\n",
    "            txt6 = txt6 + f\"'{data.loc[row,['Name']][0]}',\"\n",
    "        else: \n",
    "            txt = txt + f\"SA_{data.loc[row,['Name']][0]} = []\\n\\t\"\n",
    "            txt2 = txt2 + f\"SA_{data.loc[row,['Name']][0]}]\\n\\t\"\n",
    "            txt3 = txt3 + f\"SA_{data.loc[row,['Name']][0]}.append({data.loc[row,['Name']][0]}(mol)[:])\\n\\t\"\n",
    "            txt5 = txt5 + f\"SA_{data.loc[row,['Name']][0]}[0]),\"\n",
    "            txt6 = txt6 + f\"'{data.loc[row,['Name']][0]}'])\\n\\tdropCol = [i for i in out.keys() if out[i][2]==0]\\n\\tb = out.drop(dropCol, axis=1)\\n\\tif len(b.keys())>1:\\n\\t\\ta = b.loc[:,b.iloc[3,:].apply(lambda x: x == max(b.iloc[3,:]))]\\n\\t\\tc = a.loc[:, a.iloc[4,:].apply(lambda x: x=='ACTIVE')]\\n\\t\\tc = c.loc[:,c.iloc[5,:].apply(lambda x: x == max(c.iloc[5,:]))]\\n\\t\\tif len(c.keys())>1: c = c.loc[:,c.iloc[6,:].apply(lambda x: x == max(c.iloc[6,:]))]\\n\\telse: c = b.copy()\\n\\treturn c\"\n",
    "    txt4 = f\"else:\\n\\t\\tfor chem_group in lst_chemical:\\n\\t\\t\\tchem_group.append('none')\"\n",
    "    txt = txt + \"\\n\\t\" + txt2 + \"\\n\\t\" + txt3 +\"\\n\\t\"+ txt4 + \"\\n\\t\" + txt5 +\"\\n\\t\" + txt6 + \"\\n\"\n",
    "    return txt\n",
    "\n",
    "\n",
    "a = build_alert_Spy(data)\n",
    "d = descriptor(data)\n",
    "txt = a + \"\\n\\n\" + \"\\n\\n\" + d\n",
    "with open(f\"{out_name}.txt\", \"w\") as f:f.write(txt)"
   ]
  },
  {
   "cell_type": "code",
   "execution_count": null,
   "id": "e64c995c",
   "metadata": {},
   "outputs": [],
   "source": []
  }
 ],
 "metadata": {
  "kernelspec": {
   "display_name": "Python 3 (ipykernel)",
   "language": "python",
   "name": "python3"
  },
  "language_info": {
   "codemirror_mode": {
    "name": "ipython",
    "version": 3
   },
   "file_extension": ".py",
   "mimetype": "text/x-python",
   "name": "python",
   "nbconvert_exporter": "python",
   "pygments_lexer": "ipython3",
   "version": "3.10.8"
  }
 },
 "nbformat": 4,
 "nbformat_minor": 5
}
