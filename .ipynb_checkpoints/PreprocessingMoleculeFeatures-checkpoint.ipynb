{
 "cells": [
  {
   "cell_type": "markdown",
   "id": "c020dba1",
   "metadata": {},
   "source": [
    "## This notebook contain some experiment to try to explore the molecule entities: \n",
    "\n",
    "Qui ci servono poche caratteristiche portanti, che caratterizzino la sostanza su alcuni aspetti salienti. Ci servono quindi dei valori per queste caratteristiche:\n",
    "\n",
    "•\tReactivity:\n",
    "- Fukui function\n",
    "- Hardeness index\n",
    "- Elettrophilicity index\n",
    "- HomoLumo gap\n",
    "- Wiener index\n",
    "- Randic index\n",
    "- Number of lone pairs (NDA)\n",
    "- Number acceptor atoms (NAA)\n",
    "- The dipole moment\n",
    "- Molecular volume (VM)\n",
    "- Polarizability\n",
    "- Electrostatic potential (ESP)\n",
    "- Surface area (S)\n",
    "- Heavy atom (NHA)\n",
    "    \n",
    "\n",
    "•\tStability:\n",
    "- Heat of formation (DeltaHf)\n",
    "- Gibbs free energy formation\n",
    "- Ionization Potential\n",
    "- Electron Affinity\n",
    "- Reduced density gradient\n",
    "- HomoLumo gap\n",
    "    \n",
    "\n",
    "•\tPolarity:\n",
    "- Polarizability (alpha)\n",
    "- Electrostatic potential\n",
    "- Dipole moment (MU)\n",
    "- Polar surface area(PSA)\n",
    "- Hydrogen bond acidity (HBA)\n",
    "- Hydrogen bond Basicity (HBD)\n",
    "- Electrostatic Potential (ESP)\n",
    "\n",
    "•\tSteric property:\n",
    "- Molecular volume\n",
    "- Number of atoms in the largest substituent group (NLS)\n",
    "\n",
    "•\tFlexibility/rigidity:\n",
    "- Number of rotable bonds (NRB)\n",
    "- Molecular Volume (Vm)\n",
    "- Aurface Area (S)\n",
    "- Molecular weight (MW)\n",
    "- Heavy metal (NHA)\n",
    "- Number of atoms in the largest substituent group (NLS)\n",
    "\n",
    "•\tSimmetry:\n",
    "- Molecular shape Index (MSI)\n",
    "- Molecular complexity index (MCOM)\n",
    "- Molecular chirality Index (MCI)\n",
    "- Molecular Symmetry Index (MSI)\n",
    "- Molecular Symmetry Number (MSYM)\n",
    "\n",
    "•\tSize:\n",
    "\n",
    "    \n",
    "\n",
    "Questi valori possono essere ottenuti da (insiemi di) descrittori.\n",
    "\n",
    "\n",
    "Dragon descriptors:\n",
    "https://www.google.com/search?q=dragon+molecolar+descriptors+list&client=ubuntu&hs=dOj&channel=fs&sxsrf=AJOqlzXgff41OL1JxREQCkWy0AKxj0f_sw%3A1674730635421&ei=i1zSY6GuGZSUxc8PvdaziA8&ved=0ahUKEwjhn_nkieX8AhUUSvEDHT3rDPEQ4dUDCA4&uact=5&oq=dragon+molecolar+descriptors+list&gs_lcp=Cgxnd3Mtd2l6LXNlcnAQAzIFCAAQogQyBQgAEKIEMgUIABCiBDoKCAAQRxDWBBCwAzoHCCMQsAIQJzoICAAQBxAeEBM6CggAEAcQHhAKEBM6BggAEAcQHjoICCEQoAEQwwQ6BwgAEB4QogQ6CgghEKABEMMEEAo6BAghEBU6BAghEApKBAhBGABKBAhGGABQyQtY_jVgxDdoA3ABeACAAZoBiAGmEZIBBDE0LjmYAQCgAQHIAQjAAQE&sclient=gws-wiz-serp\n"
   ]
  },
  {
   "cell_type": "markdown",
   "id": "d25cb89f",
   "metadata": {},
   "source": [
    "lalakslq \n",
    "fjdshfkjs\n",
    "afjshda"
   ]
  }
 ],
 "metadata": {
  "kernelspec": {
   "display_name": "Python 3 (ipykernel)",
   "language": "python",
   "name": "python3"
  },
  "language_info": {
   "codemirror_mode": {
    "name": "ipython",
    "version": 3
   },
   "file_extension": ".py",
   "mimetype": "text/x-python",
   "name": "python",
   "nbconvert_exporter": "python",
   "pygments_lexer": "ipython3",
   "version": "3.9.7"
  }
 },
 "nbformat": 4,
 "nbformat_minor": 5
}
